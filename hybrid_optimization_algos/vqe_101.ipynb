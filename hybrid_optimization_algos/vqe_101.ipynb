{
 "cells": [
  {
   "cell_type": "code",
   "execution_count": 1,
   "metadata": {
    "colab": {},
    "colab_type": "code",
    "id": "RdCQCSt5umHz"
   },
   "outputs": [],
   "source": [
    "#!pip install -q cirq"
   ]
  },
  {
   "cell_type": "code",
   "execution_count": 2,
   "metadata": {
    "colab": {},
    "colab_type": "code",
    "id": "EVAZodwXuSG7"
   },
   "outputs": [],
   "source": [
    "import cirq\n",
    "import numpy as np\n",
    "import sympy"
   ]
  },
  {
   "cell_type": "code",
   "execution_count": 3,
   "metadata": {
    "colab": {
     "base_uri": "https://localhost:8080/",
     "height": 164
    },
    "colab_type": "code",
    "id": "h6ZyGMfMua5J",
    "outputId": "a55ba91e-92a6-406f-a76f-85263d8de9f8"
   },
   "outputs": [
    {
     "name": "stdout",
     "output_type": "stream",
     "text": [
      "[[1. 0.]\n",
      " [0. 1.]]\n",
      "[[0.+0.j 1.+0.j]\n",
      " [1.+0.j 0.+0.j]]\n",
      "[[0.+0.j 0.-1.j]\n",
      " [0.+1.j 0.+0.j]]\n",
      "[[ 1.+0.j  0.+0.j]\n",
      " [ 0.+0.j -1.+0.j]]\n"
     ]
    }
   ],
   "source": [
    "I = cirq.unitary(cirq.I)\n",
    "sig_x = cirq.unitary(cirq.X)\n",
    "sig_y = cirq.unitary(cirq.Y)\n",
    "sig_z = cirq.unitary(cirq.Z)\n",
    "print(I)\n",
    "print(sig_x)\n",
    "print(sig_y)\n",
    "print(sig_z)"
   ]
  },
  {
   "cell_type": "code",
   "execution_count": 4,
   "metadata": {
    "colab": {
     "base_uri": "https://localhost:8080/",
     "height": 72
    },
    "colab_type": "code",
    "id": "ZfIHf6ZIxUQh",
    "outputId": "718d7a94-3a79-4fcd-afd0-89023cceb59a"
   },
   "outputs": [
    {
     "name": "stdout",
     "output_type": "stream",
     "text": [
      "4 4 1 2\n",
      "[[6.+0.j 4.-1.j]\n",
      " [4.+1.j 2.+0.j]]\n"
     ]
    }
   ],
   "source": [
    "i, x, y, z  = np.random.randint(0,10), np.random.randint(0,10), np.random.randint(0,10), np.random.randint(0,10)\n",
    "H =  i * I + x * sig_x + y * sig_y + z * sig_z\n",
    "print(i, x, y, z)\n",
    "print(H)"
   ]
  },
  {
   "cell_type": "code",
   "execution_count": 5,
   "metadata": {
    "colab": {
     "base_uri": "https://localhost:8080/",
     "height": 72
    },
    "colab_type": "code",
    "id": "T_hJQSkFxtr0",
    "outputId": "1120c3ee-5c87-474d-8691-d6cbf8ae8a5b"
   },
   "outputs": [
    {
     "name": "stdout",
     "output_type": "stream",
     "text": [
      "[ 8.58257569-9.98906969e-17j -0.58257569+9.98906969e-17j]\n",
      "[[ 0.84747737+0.j         -0.51498222+0.12874556j]\n",
      " [ 0.51498222+0.12874556j  0.84747737+0.j        ]]\n"
     ]
    }
   ],
   "source": [
    "eig_vals, eig_vects = np.linalg.eig(H)\n",
    "print(eig_vals)\n",
    "print(eig_vects)"
   ]
  },
  {
   "cell_type": "code",
   "execution_count": 6,
   "metadata": {
    "colab": {
     "base_uri": "https://localhost:8080/",
     "height": 54
    },
    "colab_type": "code",
    "id": "0qpN3zJTz2xK",
    "outputId": "c5d3e284-6403-4740-afe7-ef907fab7577"
   },
   "outputs": [
    {
     "name": "stdout",
     "output_type": "stream",
     "text": [
      "[7.27353867+0.j         4.41987392+1.10496848j]\n",
      "[7.27353867-8.46551050e-17j 4.41987392+1.10496848e+00j]\n"
     ]
    }
   ],
   "source": [
    "print(H.dot(eig_vects[:,0]))\n",
    "print(eig_vals[0]* eig_vects[:,0])\n",
    "#assert np.all(H.dot(eig_vects[:,0]) == eig_vals[0]* eig_vects[:,0]), \"Impossible ?\"\n",
    "#assert np.all(H.dot(eig_vects[:,1]) == eig_vals[1]* eig_vects[:,1]), \"Impossible ?\""
   ]
  },
  {
   "cell_type": "code",
   "execution_count": 7,
   "metadata": {
    "colab": {},
    "colab_type": "code",
    "id": "GvGh0Ufn8QG4"
   },
   "outputs": [],
   "source": [
    "rx, ry = sympy.symbols('rx ry')\n",
    "\n",
    "def get_ansatz(ansatz_circ, params):\n",
    "    resolver = cirq.ParamResolver({rx: params[0], ry: params[1]})\n",
    "    output_state_vector = cirq.Simulator().simulate(ansatz_circ,resolver)\n",
    "    return output_state_vector.final_state"
   ]
  },
  {
   "cell_type": "code",
   "execution_count": 8,
   "metadata": {
    "colab": {},
    "colab_type": "code",
    "id": "Cvoyk0kF_Nmh"
   },
   "outputs": [],
   "source": [
    "def expected_val(ansatz_param):\n",
    "    q0 = cirq.LineQubit(1)\n",
    "    ansatz_circ = cirq.Circuit(\n",
    "        cirq.rx(rx).on(q0),\n",
    "        cirq.ry(ry).on(q0))\n",
    "\n",
    "    xm = cirq.X(q0).expectation_from_wavefunction(get_ansatz(ansatz_circ, ansatz_param), {q0: 0})\n",
    "    ym = cirq.Y(q0).expectation_from_wavefunction(get_ansatz(ansatz_circ, ansatz_param), {q0: 0})\n",
    "    zm = cirq.Z(q0).expectation_from_wavefunction(get_ansatz(ansatz_circ, ansatz_param), {q0: 0})\n",
    "    currH = i + x * xm + y * ym + z * zm\n",
    "    #print(xm, ym, zm, currH)\n",
    "    return currH.real"
   ]
  },
  {
   "cell_type": "code",
   "execution_count": 9,
   "metadata": {
    "colab": {},
    "colab_type": "code",
    "id": "sq3730AWLehF"
   },
   "outputs": [],
   "source": [
    "from scipy.optimize import minimize"
   ]
  },
  {
   "cell_type": "code",
   "execution_count": 10,
   "metadata": {
    "colab": {
     "base_uri": "https://localhost:8080/",
     "height": 54
    },
    "colab_type": "code",
    "id": "-_ZuNervHzIu",
    "outputId": "38bd5318-18b6-436f-ab67-c79e13283ca4"
   },
   "outputs": [
    {
     "name": "stdout",
     "output_type": "stream",
     "text": [
      "Matrix Eigen Values: [ 8.58257569-9.98906969e-17j -0.58257569+9.98906969e-17j] and minimum is at: (-0.5825756949558395+9.989069691878485e-17j)\n",
      "The ground state energy: -0.5825759619474411\n"
     ]
    }
   ],
   "source": [
    "parameters_array = np.array([np.pi, np.pi])\n",
    "result = minimize(expected_val, parameters_array, method=\"Powell\", tol=1e-3)\n",
    "print(\"Matrix Eigen Values: {} and minimum is at: {}\".format(eig_vals, min(eig_vals)))\n",
    "print('The ground state energy: {}'.format(result.fun))"
   ]
  }
 ],
 "metadata": {
  "colab": {
   "collapsed_sections": [],
   "name": "vqe_101.ipynb",
   "provenance": []
  },
  "kernelspec": {
   "display_name": "Python 3",
   "language": "python",
   "name": "python3"
  },
  "language_info": {
   "codemirror_mode": {
    "name": "ipython",
    "version": 3
   },
   "file_extension": ".py",
   "mimetype": "text/x-python",
   "name": "python",
   "nbconvert_exporter": "python",
   "pygments_lexer": "ipython3",
   "version": "3.7.6"
  }
 },
 "nbformat": 4,
 "nbformat_minor": 1
}
