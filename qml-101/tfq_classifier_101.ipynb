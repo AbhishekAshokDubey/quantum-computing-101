{
  "nbformat": 4,
  "nbformat_minor": 0,
  "metadata": {
    "colab": {
      "name": "tfq_classifier_101.ipynb",
      "provenance": []
    },
    "kernelspec": {
      "name": "python3",
      "display_name": "Python 3"
    }
  },
  "cells": [
    {
      "cell_type": "code",
      "metadata": {
        "id": "uwjEKZYc8Rnu",
        "colab_type": "code",
        "colab": {}
      },
      "source": [
        "!pip install -q tensorflow==2.1.0"
      ],
      "execution_count": 121,
      "outputs": []
    },
    {
      "cell_type": "code",
      "metadata": {
        "id": "VCGaMUQx8Uok",
        "colab_type": "code",
        "colab": {}
      },
      "source": [
        "!pip install -q tensorflow-quantum"
      ],
      "execution_count": 122,
      "outputs": []
    },
    {
      "cell_type": "code",
      "metadata": {
        "id": "DBkSp2JI8VVE",
        "colab_type": "code",
        "colab": {}
      },
      "source": [
        "import tensorflow as tf\n",
        "import tensorflow_quantum as tfq\n",
        "\n",
        "import cirq\n",
        "import sympy\n",
        "import numpy as np\n",
        "import seaborn as sns\n",
        "import collections\n",
        "\n",
        "# visualization tools\n",
        "%matplotlib inline\n",
        "import matplotlib.pyplot as plt\n",
        "from cirq.contrib.svg import SVGCircuit"
      ],
      "execution_count": 123,
      "outputs": []
    },
    {
      "cell_type": "code",
      "metadata": {
        "id": "Qu3t9G7KAhOd",
        "colab_type": "code",
        "colab": {}
      },
      "source": [
        "# tf.keras.backend.clear_session()"
      ],
      "execution_count": 124,
      "outputs": []
    },
    {
      "cell_type": "code",
      "metadata": {
        "id": "UmVQe_Qp-v62",
        "colab_type": "code",
        "colab": {}
      },
      "source": [
        "def get_data(l):\n",
        "    data = np.zeros(l,float)\n",
        "    label = np.ones(l,int)\n",
        "    data[0::2]=1\n",
        "    label[1::2] = 0\n",
        "    p = np.random.permutation(l)\n",
        "    return data[p], label[p]\n",
        "\n",
        "def convert_to_circuit(x):\n",
        "    \"\"\"Encode truncated classical image into quantum datapoint.\"\"\"\n",
        "    qubits = cirq.GridQubit.rect(1, 1)\n",
        "    circuit = cirq.Circuit()\n",
        "    if x:\n",
        "        circuit.append(cirq.X(qubits[0]))\n",
        "    return circuit\n",
        "\n",
        "def hinge_accuracy(y_true, y_pred):\n",
        "    y_true = tf.squeeze(y_true) > 0.0\n",
        "    y_pred = tf.squeeze(y_pred) > 0.0\n",
        "    result = tf.cast(y_true == y_pred, tf.float32)\n",
        "    return tf.reduce_mean(result)"
      ],
      "execution_count": 125,
      "outputs": []
    },
    {
      "cell_type": "code",
      "metadata": {
        "id": "gZ8bpQFI-w6o",
        "colab_type": "code",
        "colab": {}
      },
      "source": [
        "s = []\n",
        "qubit = cirq.GridQubit.rect(1, 1)  # 1x1 grid.\n",
        "readout = cirq.GridQubit(-1, -1)   # a single qubit at [-1,-1]\n",
        "model_circuit = cirq.Circuit()\n",
        "\n",
        "model_circuit.append(cirq.X(readout))\n",
        "model_circuit.append(cirq.H(readout))\n",
        "\n",
        "alpha = sympy.Symbol('a')\n",
        "model_circuit.append(cirq.XX(qubit[0], readout)**alpha)\n",
        "\n",
        "beta = sympy.Symbol('b')\n",
        "model_circuit.append(cirq.ZZ(qubit[0], readout)**beta)\n",
        "\n",
        "model_circuit.append(cirq.H(readout))\n",
        "model_readout = cirq.Z(readout)"
      ],
      "execution_count": 126,
      "outputs": []
    },
    {
      "cell_type": "code",
      "metadata": {
        "id": "onILyiyA-7sF",
        "colab_type": "code",
        "colab": {
          "base_uri": "https://localhost:8080/",
          "height": 121
        },
        "outputId": "d6ce9f69-f974-45b9-a9bc-039828c943d6"
      },
      "source": [
        "SVGCircuit(model_circuit)"
      ],
      "execution_count": 127,
      "outputs": [
        {
          "output_type": "execute_result",
          "data": {
            "text/plain": [
              "<cirq.contrib.svg.svg.SVGCircuit at 0x7f7830bb12b0>"
            ],
            "image/svg+xml": "<svg xmlns=\"http://www.w3.org/2000/svg\" width=\"435.82828125000003\" height=\"100.0\"><line x1=\"39.810625\" x2=\"405.82828125000003\" y1=\"25.0\" y2=\"25.0\" stroke=\"#1967d2\" stroke-width=\"1\" /><line x1=\"39.810625\" x2=\"405.82828125000003\" y1=\"75.0\" y2=\"75.0\" stroke=\"#1967d2\" stroke-width=\"1\" /><line x1=\"233.5226171875\" x2=\"233.5226171875\" y1=\"25.0\" y2=\"75.0\" stroke=\"black\" stroke-width=\"3\" /><line x1=\"301.62613281250003\" x2=\"301.62613281250003\" y1=\"25.0\" y2=\"75.0\" stroke=\"black\" stroke-width=\"3\" /><rect x=\"10.0\" y=\"5.0\" width=\"59.62125\" height=\"40\" stroke=\"black\" fill=\"white\" stroke-width=\"0\" /><text x=\"39.810625\" y=\"25.0\" dominant-baseline=\"middle\" text-anchor=\"middle\" font-size=\"14px\">(-1, -1): </text><rect x=\"10.0\" y=\"55.0\" width=\"59.62125\" height=\"40\" stroke=\"black\" fill=\"white\" stroke-width=\"0\" /><text x=\"39.810625\" y=\"75.0\" dominant-baseline=\"middle\" text-anchor=\"middle\" font-size=\"14px\">(0, 0): </text><rect x=\"89.62125\" y=\"5.0\" width=\"40\" height=\"40\" stroke=\"black\" fill=\"white\" stroke-width=\"1\" /><text x=\"109.62125\" y=\"25.0\" dominant-baseline=\"middle\" text-anchor=\"middle\" font-size=\"18px\">X</text><rect x=\"149.62125\" y=\"5.0\" width=\"40\" height=\"40\" stroke=\"black\" fill=\"white\" stroke-width=\"1\" /><text x=\"169.62125\" y=\"25.0\" dominant-baseline=\"middle\" text-anchor=\"middle\" font-size=\"18px\">H</text><rect x=\"209.62125\" y=\"55.0\" width=\"47.802734375\" height=\"40\" stroke=\"black\" fill=\"white\" stroke-width=\"1\" /><text x=\"233.5226171875\" y=\"75.0\" dominant-baseline=\"middle\" text-anchor=\"middle\" font-size=\"14px\">XX^a</text><rect x=\"209.62125\" y=\"5.0\" width=\"47.802734375\" height=\"40\" stroke=\"black\" fill=\"white\" stroke-width=\"1\" /><text x=\"233.5226171875\" y=\"25.0\" dominant-baseline=\"middle\" text-anchor=\"middle\" font-size=\"14px\">XX</text><rect x=\"277.42398437500003\" y=\"55.0\" width=\"48.404296875\" height=\"40\" stroke=\"black\" fill=\"white\" stroke-width=\"1\" /><text x=\"301.62613281250003\" y=\"75.0\" dominant-baseline=\"middle\" text-anchor=\"middle\" font-size=\"14px\">ZZ^b</text><rect x=\"277.42398437500003\" y=\"5.0\" width=\"48.404296875\" height=\"40\" stroke=\"black\" fill=\"white\" stroke-width=\"1\" /><text x=\"301.62613281250003\" y=\"25.0\" dominant-baseline=\"middle\" text-anchor=\"middle\" font-size=\"14px\">ZZ</text><rect x=\"345.82828125000003\" y=\"5.0\" width=\"40\" height=\"40\" stroke=\"black\" fill=\"white\" stroke-width=\"1\" /><text x=\"365.82828125000003\" y=\"25.0\" dominant-baseline=\"middle\" text-anchor=\"middle\" font-size=\"18px\">H</text></svg>"
          },
          "metadata": {
            "tags": []
          },
          "execution_count": 127
        }
      ]
    },
    {
      "cell_type": "code",
      "metadata": {
        "id": "pVS0TrWQ_PKS",
        "colab_type": "code",
        "colab": {}
      },
      "source": [
        "x_train, y_train = get_data(2000)\n",
        "x_test, y_test = get_data(10)\n",
        "\n",
        "x_train_circ = [convert_to_circuit(x) for x in x_train]\n",
        "x_test_circ = [convert_to_circuit(x) for x in x_test]\n",
        "\n",
        "x_train_tfcirc = tfq.convert_to_tensor(x_train_circ)\n",
        "x_test_tfcirc = tfq.convert_to_tensor(x_test_circ)"
      ],
      "execution_count": 128,
      "outputs": []
    },
    {
      "cell_type": "code",
      "metadata": {
        "id": "W2p3t-lZBij0",
        "colab_type": "code",
        "colab": {
          "base_uri": "https://localhost:8080/",
          "height": 54
        },
        "outputId": "ce0e6fa2-f233-4284-bbba-70e6c41b9eaa"
      },
      "source": [
        "print(x_train[:10])\n",
        "print(y_train[:10])"
      ],
      "execution_count": 129,
      "outputs": [
        {
          "output_type": "stream",
          "text": [
            "[1. 1. 1. 0. 1. 1. 0. 0. 0. 0.]\n",
            "[1 1 1 0 1 1 0 0 0 0]\n"
          ],
          "name": "stdout"
        }
      ]
    },
    {
      "cell_type": "code",
      "metadata": {
        "id": "HxbxFRC5_QCD",
        "colab_type": "code",
        "colab": {}
      },
      "source": [
        "model = tf.keras.Sequential([\n",
        "    # The input is the data-circuit, encoded as a tf.string\n",
        "    tf.keras.layers.Input(shape=(), dtype=tf.string),\n",
        "    # The PQC layer returns the expected value of the readout gate, range [-1,1].\n",
        "    tfq.layers.PQC(model_circuit, model_readout),\n",
        "])\n",
        "\n",
        "y_train_hinge = 2.0*y_train-1.0\n",
        "y_test_hinge = 2.0*y_test-1.0\n",
        "x_train_tfcirc = x_train\n",
        "x_test_tfcirc = x_test"
      ],
      "execution_count": 130,
      "outputs": []
    },
    {
      "cell_type": "code",
      "metadata": {
        "id": "VR305Hk4_T5B",
        "colab_type": "code",
        "colab": {
          "base_uri": "https://localhost:8080/",
          "height": 1000
        },
        "outputId": "1fac7538-a0f9-4058-b3c0-284f344f822c"
      },
      "source": [
        "model = tf.keras.Sequential([\n",
        "    tf.keras.layers.Input(shape=(1)),\n",
        "    tf.keras.layers.Dense(2),\n",
        "    tf.keras.layers.Dense(1),\n",
        "])\n",
        "\n",
        "optimizer = tf.keras.optimizers.Adam(learning_rate=0.5)\n",
        "loss = tf.keras.losses.MeanSquaredError()\n",
        "model.compile(optimizer=optimizer, loss=loss)\n",
        "history = model.fit(x=x_train_tfcirc,\n",
        "                    y=y_train_hinge,\n",
        "                    epochs=50,\n",
        "                    verbose=1)"
      ],
      "execution_count": 131,
      "outputs": [
        {
          "output_type": "stream",
          "text": [
            "Train on 2000 samples\n",
            "Epoch 1/50\n",
            "2000/2000 [==============================] - 0s 143us/sample - loss: 0.0854\n",
            "Epoch 2/50\n",
            "2000/2000 [==============================] - 0s 42us/sample - loss: 1.1049e-04\n",
            "Epoch 3/50\n",
            "2000/2000 [==============================] - 0s 38us/sample - loss: 1.1046e-07\n",
            "Epoch 4/50\n",
            "2000/2000 [==============================] - 0s 45us/sample - loss: 7.8904e-10\n",
            "Epoch 5/50\n",
            "2000/2000 [==============================] - 0s 40us/sample - loss: 1.2868e-11\n",
            "Epoch 6/50\n",
            "2000/2000 [==============================] - 0s 39us/sample - loss: 1.3366e-12\n",
            "Epoch 7/50\n",
            "2000/2000 [==============================] - 0s 43us/sample - loss: 5.3696e-14\n",
            "Epoch 8/50\n",
            "2000/2000 [==============================] - 0s 39us/sample - loss: 2.9853e-13\n",
            "Epoch 9/50\n",
            "2000/2000 [==============================] - 0s 42us/sample - loss: 9.9246e-13\n",
            "Epoch 10/50\n",
            "2000/2000 [==============================] - 0s 45us/sample - loss: 9.9335e-13\n",
            "Epoch 11/50\n",
            "2000/2000 [==============================] - 0s 39us/sample - loss: 8.9591e-13\n",
            "Epoch 12/50\n",
            "2000/2000 [==============================] - 0s 41us/sample - loss: 3.0985e-12\n",
            "Epoch 13/50\n",
            "2000/2000 [==============================] - 0s 39us/sample - loss: 1.8954e-11\n",
            "Epoch 14/50\n",
            "2000/2000 [==============================] - 0s 40us/sample - loss: 2.2827e-09\n",
            "Epoch 15/50\n",
            "2000/2000 [==============================] - 0s 44us/sample - loss: 0.0028\n",
            "Epoch 16/50\n",
            "2000/2000 [==============================] - 0s 38us/sample - loss: 9.5021e-04\n",
            "Epoch 17/50\n",
            "2000/2000 [==============================] - 0s 38us/sample - loss: 0.0043\n",
            "Epoch 18/50\n",
            "2000/2000 [==============================] - 0s 36us/sample - loss: 1.1144e-05\n",
            "Epoch 19/50\n",
            "2000/2000 [==============================] - 0s 42us/sample - loss: 3.4204e-08\n",
            "Epoch 20/50\n",
            "2000/2000 [==============================] - 0s 37us/sample - loss: 5.1890e-09\n",
            "Epoch 21/50\n",
            "2000/2000 [==============================] - 0s 40us/sample - loss: 8.2709e-10\n",
            "Epoch 22/50\n",
            "2000/2000 [==============================] - 0s 40us/sample - loss: 1.2865e-11\n",
            "Epoch 23/50\n",
            "2000/2000 [==============================] - 0s 38us/sample - loss: 3.2892e-11\n",
            "Epoch 24/50\n",
            "2000/2000 [==============================] - 0s 38us/sample - loss: 6.7957e-10\n",
            "Epoch 25/50\n",
            "2000/2000 [==============================] - 0s 39us/sample - loss: 7.8254e-09\n",
            "Epoch 26/50\n",
            "2000/2000 [==============================] - 0s 47us/sample - loss: 5.9190e-07\n",
            "Epoch 27/50\n",
            "2000/2000 [==============================] - 0s 42us/sample - loss: 0.0052\n",
            "Epoch 28/50\n",
            "2000/2000 [==============================] - 0s 40us/sample - loss: 3.7918\n",
            "Epoch 29/50\n",
            "2000/2000 [==============================] - 0s 41us/sample - loss: 0.0236\n",
            "Epoch 30/50\n",
            "2000/2000 [==============================] - 0s 37us/sample - loss: 9.0366e-05\n",
            "Epoch 31/50\n",
            "2000/2000 [==============================] - 0s 39us/sample - loss: 1.1482e-07\n",
            "Epoch 32/50\n",
            "2000/2000 [==============================] - 0s 43us/sample - loss: 2.5115e-10\n",
            "Epoch 33/50\n",
            "2000/2000 [==============================] - 0s 39us/sample - loss: 1.5150e-12\n",
            "Epoch 34/50\n",
            "2000/2000 [==============================] - 0s 39us/sample - loss: 5.0235e-15\n",
            "Epoch 35/50\n",
            "2000/2000 [==============================] - 0s 41us/sample - loss: 0.0000e+00\n",
            "Epoch 36/50\n",
            "2000/2000 [==============================] - 0s 38us/sample - loss: 0.0000e+00\n",
            "Epoch 37/50\n",
            "2000/2000 [==============================] - 0s 38us/sample - loss: 0.0000e+00\n",
            "Epoch 38/50\n",
            "2000/2000 [==============================] - 0s 40us/sample - loss: 0.0000e+00\n",
            "Epoch 39/50\n",
            "2000/2000 [==============================] - 0s 41us/sample - loss: 0.0000e+00\n",
            "Epoch 40/50\n",
            "2000/2000 [==============================] - 0s 39us/sample - loss: 0.0000e+00\n",
            "Epoch 41/50\n",
            "2000/2000 [==============================] - 0s 38us/sample - loss: 0.0000e+00\n",
            "Epoch 42/50\n",
            "2000/2000 [==============================] - 0s 38us/sample - loss: 0.0000e+00\n",
            "Epoch 43/50\n",
            "2000/2000 [==============================] - 0s 39us/sample - loss: 0.0000e+00\n",
            "Epoch 44/50\n",
            "2000/2000 [==============================] - 0s 38us/sample - loss: 0.0000e+00\n",
            "Epoch 45/50\n",
            "2000/2000 [==============================] - 0s 44us/sample - loss: 0.0000e+00\n",
            "Epoch 46/50\n",
            "2000/2000 [==============================] - 0s 39us/sample - loss: 0.0000e+00\n",
            "Epoch 47/50\n",
            "2000/2000 [==============================] - 0s 37us/sample - loss: 0.0000e+00\n",
            "Epoch 48/50\n",
            "2000/2000 [==============================] - 0s 39us/sample - loss: 0.0000e+00\n",
            "Epoch 49/50\n",
            "2000/2000 [==============================] - 0s 38us/sample - loss: 0.0000e+00\n",
            "Epoch 50/50\n",
            "2000/2000 [==============================] - 0s 40us/sample - loss: 0.0000e+00\n"
          ],
          "name": "stdout"
        }
      ]
    },
    {
      "cell_type": "code",
      "metadata": {
        "id": "WH_wpQPi_Wsi",
        "colab_type": "code",
        "colab": {
          "base_uri": "https://localhost:8080/",
          "height": 35
        },
        "outputId": "9c88c9ec-73c2-405e-8332-5e30bf070224"
      },
      "source": [
        "print(list(zip(model.predict(x_test_tfcirc).ravel(), y_test)))"
      ],
      "execution_count": 132,
      "outputs": [
        {
          "output_type": "stream",
          "text": [
            "[(1.0, 1), (-1.0, 0), (-1.0, 0), (1.0, 1), (-1.0, 0), (-1.0, 0), (1.0, 1), (1.0, 1), (1.0, 1), (-1.0, 0)]\n"
          ],
          "name": "stdout"
        }
      ]
    }
  ]
}