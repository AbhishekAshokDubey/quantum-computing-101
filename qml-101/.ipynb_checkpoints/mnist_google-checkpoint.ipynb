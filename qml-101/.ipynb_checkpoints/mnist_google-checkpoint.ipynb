{
 "cells": [
  {
   "cell_type": "code",
   "execution_count": 1,
   "metadata": {
    "colab": {},
    "colab_type": "code",
    "id": "TorxE5tnkvb2"
   },
   "outputs": [],
   "source": [
    "!pip install -q tensorflow==2.1.0"
   ]
  },
  {
   "cell_type": "code",
   "execution_count": 2,
   "metadata": {
    "colab": {},
    "colab_type": "code",
    "id": "saFHsRDpkvkH"
   },
   "outputs": [],
   "source": [
    "!pip install -q tensorflow-quantum"
   ]
  },
  {
   "cell_type": "code",
   "execution_count": 3,
   "metadata": {
    "colab": {},
    "colab_type": "code",
    "id": "enZ300Bflq80"
   },
   "outputs": [],
   "source": [
    "import tensorflow as tf\n",
    "import tensorflow_quantum as tfq\n",
    "\n",
    "import cirq\n",
    "import sympy\n",
    "import numpy as np\n",
    "import seaborn as sns\n",
    "import collections\n",
    "\n",
    "# visualization tools\n",
    "%matplotlib inline\n",
    "import matplotlib.pyplot as plt\n",
    "from cirq.contrib.svg import SVGCircuit"
   ]
  },
  {
   "cell_type": "code",
   "execution_count": 4,
   "metadata": {
    "colab": {},
    "colab_type": "code",
    "id": "d9OSExvCojg0"
   },
   "outputs": [],
   "source": [
    "def get_data(l):\n",
    "    data = np.random.randint(0,1,(l,2))\n",
    "    label = np.zeros(l)\n",
    "    data[0::2,0]=1\n",
    "    data[1::2,1]=1\n",
    "    label[1::2] = 1\n",
    "    p = np.random.permutation(l)\n",
    "    return data[p], label[p]\n",
    "\n",
    "x_train, y_train = get_data(2000)\n",
    "x_test, y_test = get_data(200)"
   ]
  },
  {
   "cell_type": "code",
   "execution_count": 5,
   "metadata": {
    "colab": {},
    "colab_type": "code",
    "id": "zpnsAssWojhP",
    "scrolled": true
   },
   "outputs": [],
   "source": [
    "def convert_to_circuit(x):\n",
    "    qubits = cirq.GridQubit.rect(1, 2)\n",
    "    circuit = cirq.Circuit()\n",
    "    for i, val in enumerate(x):\n",
    "        if val:\n",
    "            circuit.append(cirq.X(qubits[i]))\n",
    "    return circuit"
   ]
  },
  {
   "cell_type": "code",
   "execution_count": 6,
   "metadata": {
    "colab": {},
    "colab_type": "code",
    "id": "aOu_3-3ZGL61"
   },
   "outputs": [],
   "source": [
    "x_train_circ = [convert_to_circuit(x) for x in x_train]\n",
    "x_test_circ = [convert_to_circuit(x) for x in x_test]"
   ]
  },
  {
   "cell_type": "code",
   "execution_count": 7,
   "metadata": {
    "colab": {},
    "colab_type": "code",
    "id": "IZStEMk4ojhk"
   },
   "outputs": [],
   "source": [
    "x_train_tfcirc = tfq.convert_to_tensor(x_train_circ)\n",
    "x_test_tfcirc = tfq.convert_to_tensor(x_test_circ)"
   ]
  },
  {
   "cell_type": "code",
   "execution_count": 8,
   "metadata": {
    "colab": {},
    "colab_type": "code",
    "id": "2QZvVh7vojhx"
   },
   "outputs": [],
   "source": [
    "input_qubits = cirq.GridQubit.rect(2, 1)  # 2x1 grid.\n",
    "readout = cirq.GridQubit(-1, -1)   # a qubit at [-1,-1]\n",
    "model_circuit = cirq.Circuit()\n",
    "\n",
    "model_circuit.append(cirq.X(readout))\n",
    "model_circuit.append(cirq.H(readout))\n",
    "\n",
    "alpha1 = sympy.Symbol('a1')\n",
    "model_circuit.append(cirq.XX(input_qubits[0], readout)**alpha1)\n",
    "\n",
    "alpha2 = sympy.Symbol('a2')\n",
    "model_circuit.append(cirq.XX(input_qubits[1], readout)**alpha2)\n",
    "\n",
    "beta1 = sympy.Symbol('b1')\n",
    "model_circuit.append(cirq.ZZ(input_qubits[0], readout)**beta1)\n",
    "\n",
    "beta2 = sympy.Symbol('b2')\n",
    "model_circuit.append(cirq.ZZ(input_qubits[1], readout)**beta2)\n",
    "\n",
    "model_circuit.append(cirq.H(readout))\n",
    "model_readout = cirq.Z(readout)"
   ]
  },
  {
   "cell_type": "code",
   "execution_count": 9,
   "metadata": {
    "colab": {},
    "colab_type": "code",
    "id": "ALIbSUggXVnk"
   },
   "outputs": [
    {
     "data": {
      "image/svg+xml": [
       "<svg xmlns=\"http://www.w3.org/2000/svg\" width=\"566.64203125\" height=\"150.0\"><line x1=\"36.90890625\" x2=\"536.64203125\" y1=\"25.0\" y2=\"25.0\" stroke=\"#1967d2\" stroke-width=\"1\" /><line x1=\"36.90890625\" x2=\"536.64203125\" y1=\"75.0\" y2=\"75.0\" stroke=\"#1967d2\" stroke-width=\"1\" /><line x1=\"36.90890625\" x2=\"536.64203125\" y1=\"125.0\" y2=\"125.0\" stroke=\"#1967d2\" stroke-width=\"1\" /><line x1=\"227.9103125\" x2=\"227.9103125\" y1=\"25.0\" y2=\"75.0\" stroke=\"black\" stroke-width=\"3\" /><line x1=\"297.01187500000003\" x2=\"297.01187500000003\" y1=\"25.0\" y2=\"125.0\" stroke=\"black\" stroke-width=\"3\" /><line x1=\"365.21792968750003\" x2=\"365.21792968750003\" y1=\"25.0\" y2=\"75.0\" stroke=\"black\" stroke-width=\"3\" /><line x1=\"432.52847656250003\" x2=\"432.52847656250003\" y1=\"25.0\" y2=\"125.0\" stroke=\"black\" stroke-width=\"3\" /><rect x=\"10.0\" y=\"5.0\" width=\"53.8178125\" height=\"40\" stroke=\"black\" fill=\"white\" stroke-width=\"0\" /><text x=\"36.90890625\" y=\"25.0\" dominant-baseline=\"middle\" text-anchor=\"middle\" font-size=\"14px\">(-1, -1): </text><rect x=\"10.0\" y=\"55.0\" width=\"53.8178125\" height=\"40\" stroke=\"black\" fill=\"white\" stroke-width=\"0\" /><text x=\"36.90890625\" y=\"75.0\" dominant-baseline=\"middle\" text-anchor=\"middle\" font-size=\"14px\">(0, 0): </text><rect x=\"10.0\" y=\"105.0\" width=\"53.8178125\" height=\"40\" stroke=\"black\" fill=\"white\" stroke-width=\"0\" /><text x=\"36.90890625\" y=\"125.0\" dominant-baseline=\"middle\" text-anchor=\"middle\" font-size=\"14px\">(1, 0): </text><rect x=\"83.8178125\" y=\"5.0\" width=\"40\" height=\"40\" stroke=\"black\" fill=\"white\" stroke-width=\"1\" /><text x=\"103.8178125\" y=\"25.0\" dominant-baseline=\"middle\" text-anchor=\"middle\" font-size=\"18px\">X</text><rect x=\"143.8178125\" y=\"5.0\" width=\"40\" height=\"40\" stroke=\"black\" fill=\"white\" stroke-width=\"1\" /><text x=\"163.8178125\" y=\"25.0\" dominant-baseline=\"middle\" text-anchor=\"middle\" font-size=\"18px\">H</text><rect x=\"203.8178125\" y=\"55.0\" width=\"48.185\" height=\"40\" stroke=\"black\" fill=\"white\" stroke-width=\"1\" /><text x=\"227.9103125\" y=\"75.0\" dominant-baseline=\"middle\" text-anchor=\"middle\" font-size=\"14px\">XX^a1</text><rect x=\"203.8178125\" y=\"5.0\" width=\"48.185\" height=\"40\" stroke=\"black\" fill=\"white\" stroke-width=\"1\" /><text x=\"227.9103125\" y=\"25.0\" dominant-baseline=\"middle\" text-anchor=\"middle\" font-size=\"14px\">XX</text><rect x=\"272.0028125\" y=\"105.0\" width=\"50.018125\" height=\"40\" stroke=\"black\" fill=\"white\" stroke-width=\"1\" /><text x=\"297.01187500000003\" y=\"125.0\" dominant-baseline=\"middle\" text-anchor=\"middle\" font-size=\"14px\">XX^a2</text><rect x=\"272.0028125\" y=\"5.0\" width=\"50.018125\" height=\"40\" stroke=\"black\" fill=\"white\" stroke-width=\"1\" /><text x=\"297.01187500000003\" y=\"25.0\" dominant-baseline=\"middle\" text-anchor=\"middle\" font-size=\"14px\">XX</text><rect x=\"342.02093750000006\" y=\"55.0\" width=\"46.393984375\" height=\"40\" stroke=\"black\" fill=\"white\" stroke-width=\"1\" /><text x=\"365.21792968750003\" y=\"75.0\" dominant-baseline=\"middle\" text-anchor=\"middle\" font-size=\"14px\">ZZ^b1</text><rect x=\"342.02093750000006\" y=\"5.0\" width=\"46.393984375\" height=\"40\" stroke=\"black\" fill=\"white\" stroke-width=\"1\" /><text x=\"365.21792968750003\" y=\"25.0\" dominant-baseline=\"middle\" text-anchor=\"middle\" font-size=\"14px\">ZZ</text><rect x=\"408.414921875\" y=\"105.0\" width=\"48.227109375\" height=\"40\" stroke=\"black\" fill=\"white\" stroke-width=\"1\" /><text x=\"432.52847656250003\" y=\"125.0\" dominant-baseline=\"middle\" text-anchor=\"middle\" font-size=\"14px\">ZZ^b2</text><rect x=\"408.414921875\" y=\"5.0\" width=\"48.227109375\" height=\"40\" stroke=\"black\" fill=\"white\" stroke-width=\"1\" /><text x=\"432.52847656250003\" y=\"25.0\" dominant-baseline=\"middle\" text-anchor=\"middle\" font-size=\"14px\">ZZ</text><rect x=\"476.64203125\" y=\"5.0\" width=\"40\" height=\"40\" stroke=\"black\" fill=\"white\" stroke-width=\"1\" /><text x=\"496.64203125\" y=\"25.0\" dominant-baseline=\"middle\" text-anchor=\"middle\" font-size=\"18px\">H</text></svg>"
      ],
      "text/plain": [
       "<cirq.contrib.svg.svg.SVGCircuit at 0x229e54513c8>"
      ]
     },
     "execution_count": 9,
     "metadata": {},
     "output_type": "execute_result"
    }
   ],
   "source": [
    "SVGCircuit(model_circuit)"
   ]
  },
  {
   "cell_type": "code",
   "execution_count": 10,
   "metadata": {
    "colab": {},
    "colab_type": "code",
    "id": "ZYdf_KOxojh0"
   },
   "outputs": [],
   "source": [
    "# Build the model.\n",
    "model = tf.keras.Sequential([\n",
    "    # The input is the data-circuit, encoded as a tf.string\n",
    "    tf.keras.layers.Input(shape=(), dtype=tf.string),\n",
    "    # The PQC layer returns the expected value of the readout gate @ [-1,1].\n",
    "    tfq.layers.PQC(model_circuit, model_readout),\n",
    "])"
   ]
  },
  {
   "cell_type": "code",
   "execution_count": 11,
   "metadata": {
    "colab": {},
    "colab_type": "code",
    "id": "CgMNkC1Fojh5"
   },
   "outputs": [],
   "source": [
    "y_train_hinge = 2.0*y_train-1.0\n",
    "y_test_hinge = 2.0*y_test-1.0"
   ]
  },
  {
   "cell_type": "code",
   "execution_count": 12,
   "metadata": {
    "colab": {},
    "colab_type": "code",
    "id": "3XKtZ_TEojh8"
   },
   "outputs": [],
   "source": [
    "def hinge_accuracy(y_true, y_pred):\n",
    "    y_true = tf.squeeze(y_true) > 0.0\n",
    "    y_pred = tf.squeeze(y_pred) > 0.0\n",
    "    result = tf.cast(y_true == y_pred, tf.float32)\n",
    "\n",
    "    return tf.reduce_mean(result)"
   ]
  },
  {
   "cell_type": "code",
   "execution_count": 13,
   "metadata": {
    "colab": {},
    "colab_type": "code",
    "id": "FlpETlLRojiA"
   },
   "outputs": [],
   "source": [
    "model.compile(\n",
    "    loss=tf.keras.losses.Hinge(),\n",
    "    optimizer=tf.keras.optimizers.Adam(),\n",
    "    metrics=[hinge_accuracy])"
   ]
  },
  {
   "cell_type": "code",
   "execution_count": 14,
   "metadata": {
    "colab": {},
    "colab_type": "code",
    "id": "jkHq2RstojiC"
   },
   "outputs": [
    {
     "name": "stdout",
     "output_type": "stream",
     "text": [
      "Model: \"sequential\"\n",
      "_________________________________________________________________\n",
      "Layer (type)                 Output Shape              Param #   \n",
      "=================================================================\n",
      "pqc (PQC)                    (None, 1)                 4         \n",
      "=================================================================\n",
      "Total params: 4\n",
      "Trainable params: 4\n",
      "Non-trainable params: 0\n",
      "_________________________________________________________________\n",
      "None\n"
     ]
    }
   ],
   "source": [
    "print(model.summary())"
   ]
  },
  {
   "cell_type": "code",
   "execution_count": 15,
   "metadata": {
    "colab": {},
    "colab_type": "code",
    "id": "Ya9qP3KkojiM"
   },
   "outputs": [
    {
     "name": "stdout",
     "output_type": "stream",
     "text": [
      "Train on 2000 samples, validate on 200 samples\n",
      "Epoch 1/10\n",
      "2000/2000 [==============================] - 2s 1ms/sample - loss: 0.7322 - hinge_accuracy: 0.5441 - val_loss: 0.6173 - val_hinge_accuracy: 1.0000\n",
      "Epoch 2/10\n",
      "2000/2000 [==============================] - 1s 360us/sample - loss: 0.4845 - hinge_accuracy: 1.0000 - val_loss: 0.3446 - val_hinge_accuracy: 1.0000\n",
      "Epoch 3/10\n",
      "2000/2000 [==============================] - 1s 425us/sample - loss: 0.2316 - hinge_accuracy: 1.0000 - val_loss: 0.1343 - val_hinge_accuracy: 1.0000\n",
      "Epoch 4/10\n",
      "2000/2000 [==============================] - 1s 425us/sample - loss: 0.0806 - hinge_accuracy: 1.0000 - val_loss: 0.0408 - val_hinge_accuracy: 1.0000\n",
      "Epoch 5/10\n",
      "2000/2000 [==============================] - 1s 446us/sample - loss: 0.0233 - hinge_accuracy: 1.0000 - val_loss: 0.0111 - val_hinge_accuracy: 1.0000\n",
      "Epoch 6/10\n",
      "2000/2000 [==============================] - 1s 374us/sample - loss: 0.0062 - hinge_accuracy: 1.0000 - val_loss: 0.0029 - val_hinge_accuracy: 1.0000\n",
      "Epoch 7/10\n",
      "2000/2000 [==============================] - 1s 367us/sample - loss: 0.0016 - hinge_accuracy: 1.0000 - val_loss: 6.8980e-04 - val_hinge_accuracy: 1.0000\n",
      "Epoch 8/10\n",
      "2000/2000 [==============================] - 1s 399us/sample - loss: 3.6622e-04 - hinge_accuracy: 1.0000 - val_loss: 1.5637e-04 - val_hinge_accuracy: 1.0000\n",
      "Epoch 9/10\n",
      "2000/2000 [==============================] - 1s 451us/sample - loss: 8.3482e-05 - hinge_accuracy: 1.0000 - val_loss: 3.7342e-05 - val_hinge_accuracy: 1.0000\n",
      "Epoch 10/10\n",
      "2000/2000 [==============================] - 1s 506us/sample - loss: 2.1931e-05 - hinge_accuracy: 1.0000 - val_loss: 1.2249e-05 - val_hinge_accuracy: 1.0000\n",
      "200/200 [==============================] - 0s 225us/sample - loss: 1.2249e-05 - hinge_accuracy: 1.0000\n"
     ]
    }
   ],
   "source": [
    "qnn_history = model.fit(\n",
    "      x_train_tfcirc, y_train_hinge,\n",
    "      batch_size=32,\n",
    "      epochs=10,\n",
    "      verbose=1,\n",
    "      validation_data=(x_test_tfcirc, y_test_hinge))\n",
    "\n",
    "qnn_results = model.evaluate(x_test_tfcirc, y_test)"
   ]
  },
  {
   "cell_type": "code",
   "execution_count": 16,
   "metadata": {
    "colab": {},
    "colab_type": "code",
    "id": "NDxz-2Phe6gh"
   },
   "outputs": [
    {
     "name": "stdout",
     "output_type": "stream",
     "text": [
      "[(0.99999017, 1.0), (0.99999017, 1.0), (0.99999017, 1.0), (-0.99998534, 0.0), (-0.99998534, 0.0), (0.99999017, 1.0), (-0.99998534, 0.0), (-0.99998534, 0.0), (-0.99998534, 0.0), (-0.99998534, 0.0)]\n"
     ]
    }
   ],
   "source": [
    "print(list(zip(model.predict(x_test_tfcirc).ravel()[:10], y_test[:10])))"
   ]
  }
 ],
 "metadata": {
  "colab": {
   "collapsed_sections": [],
   "name": "mnist_google.ipynb",
   "provenance": []
  },
  "kernelspec": {
   "display_name": "Python 3",
   "language": "python",
   "name": "python3"
  },
  "language_info": {
   "codemirror_mode": {
    "name": "ipython",
    "version": 3
   },
   "file_extension": ".py",
   "mimetype": "text/x-python",
   "name": "python",
   "nbconvert_exporter": "python",
   "pygments_lexer": "ipython3",
   "version": "3.7.6"
  }
 },
 "nbformat": 4,
 "nbformat_minor": 1
}
