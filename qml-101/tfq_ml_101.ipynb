{
  "nbformat": 4,
  "nbformat_minor": 0,
  "metadata": {
    "colab": {
      "name": "tfq_ml_101.ipynb",
      "provenance": [],
      "collapsed_sections": []
    },
    "kernelspec": {
      "display_name": "Python 3",
      "language": "python",
      "name": "python3"
    },
    "language_info": {
      "codemirror_mode": {
        "name": "ipython",
        "version": 3
      },
      "file_extension": ".py",
      "mimetype": "text/x-python",
      "name": "python",
      "nbconvert_exporter": "python",
      "pygments_lexer": "ipython3",
      "version": "3.7.6"
    }
  },
  "cells": [
    {
      "cell_type": "code",
      "metadata": {
        "id": "sqHD5FVRWOIo",
        "colab_type": "code",
        "colab": {}
      },
      "source": [
        "%reset -f"
      ],
      "execution_count": 1221,
      "outputs": []
    },
    {
      "cell_type": "markdown",
      "metadata": {
        "id": "_dZoZEdk4iTp",
        "colab_type": "text"
      },
      "source": [
        "Install **Tensorflow** & **Tensorflow-Quantum**"
      ]
    },
    {
      "cell_type": "code",
      "metadata": {
        "colab_type": "code",
        "id": "TorxE5tnkvb2",
        "colab": {}
      },
      "source": [
        "!pip install -q tensorflow==2.1.0"
      ],
      "execution_count": 1222,
      "outputs": []
    },
    {
      "cell_type": "code",
      "metadata": {
        "colab_type": "code",
        "id": "saFHsRDpkvkH",
        "colab": {}
      },
      "source": [
        "!pip install -q tensorflow-quantum"
      ],
      "execution_count": 1223,
      "outputs": []
    },
    {
      "cell_type": "markdown",
      "metadata": {
        "id": "IJABwdka5DKs",
        "colab_type": "text"
      },
      "source": [
        "Installing `Cirq` and `sympy` for defining Qunatum circuit & Quantum circuit variables respectively."
      ]
    },
    {
      "cell_type": "code",
      "metadata": {
        "colab_type": "code",
        "id": "enZ300Bflq80",
        "colab": {}
      },
      "source": [
        "import numpy as np\n",
        "import sympy\n",
        "\n",
        "# For Quantum ML\n",
        "import cirq\n",
        "import tensorflow as tf\n",
        "import tensorflow_quantum as tfq\n",
        "\n",
        "# For Visualization\n",
        "%matplotlib inline\n",
        "import matplotlib.pyplot as plt\n",
        "from cirq.contrib.svg import SVGCircuit"
      ],
      "execution_count": 1224,
      "outputs": []
    },
    {
      "cell_type": "markdown",
      "metadata": {
        "id": "_CJX5BoN55_A",
        "colab_type": "text"
      },
      "source": [
        "Let's make a very simple binary class data"
      ]
    },
    {
      "cell_type": "code",
      "metadata": {
        "colab_type": "code",
        "id": "d9OSExvCojg0",
        "colab": {}
      },
      "source": [
        "def get_data(l):\n",
        "    data = np.random.randint(0,1,(l,2))\n",
        "    #label = np.ones(l) * -1\n",
        "    label = np.ones(l)\n",
        "    data[0::2,0]=1\n",
        "    data[1::2,1]=1\n",
        "    #label[1::2] = 1\n",
        "    label[0::2] = -1\n",
        "    p = np.random.permutation(l)\n",
        "    return data[p], label[p]\n",
        "\n",
        "x_train, y_train = get_data(5000)\n",
        "x_test, y_test = get_data(200)"
      ],
      "execution_count": 1225,
      "outputs": []
    },
    {
      "cell_type": "markdown",
      "metadata": {
        "id": "sjxoG3QvXcc2",
        "colab_type": "text"
      },
      "source": [
        "The Data!\n",
        "\n",
        "*The cell below is just for data visulization.*"
      ]
    },
    {
      "cell_type": "code",
      "metadata": {
        "id": "wGGJ1NKvKAur",
        "colab_type": "code",
        "colab": {
          "base_uri": "https://localhost:8080/",
          "height": 274
        },
        "outputId": "f2ac88f1-c563-4cd1-9f1d-9e5f20140b7b"
      },
      "source": [
        "import pandas as pd\n",
        "print(pd.DataFrame(np.concatenate((x_train, np.reshape(y_train, (-1,1))), axis=1) , columns=[\"x1\", \"x2\", \"y\"]))"
      ],
      "execution_count": 1226,
      "outputs": [
        {
          "output_type": "stream",
          "text": [
            "       x1   x2    y\n",
            "0     1.0  0.0 -1.0\n",
            "1     1.0  0.0 -1.0\n",
            "2     1.0  0.0 -1.0\n",
            "3     0.0  1.0  1.0\n",
            "4     1.0  0.0 -1.0\n",
            "...   ...  ...  ...\n",
            "4995  1.0  0.0 -1.0\n",
            "4996  0.0  1.0  1.0\n",
            "4997  1.0  0.0 -1.0\n",
            "4998  1.0  0.0 -1.0\n",
            "4999  1.0  0.0 -1.0\n",
            "\n",
            "[5000 rows x 3 columns]\n"
          ],
          "name": "stdout"
        }
      ]
    },
    {
      "cell_type": "code",
      "metadata": {
        "colab_type": "code",
        "id": "zpnsAssWojhP",
        "scrolled": true,
        "colab": {}
      },
      "source": [
        "def convert_to_circuit(x):\n",
        "    qubits = cirq.GridQubit.rect(1, 2)\n",
        "    circuit = cirq.Circuit()\n",
        "    for i, val in enumerate(x):\n",
        "        if val:\n",
        "            circuit.append(cirq.X(qubits[i]))\n",
        "    return circuit"
      ],
      "execution_count": 1227,
      "outputs": []
    },
    {
      "cell_type": "code",
      "metadata": {
        "colab_type": "code",
        "id": "aOu_3-3ZGL61",
        "colab": {}
      },
      "source": [
        "x_train_circ = [convert_to_circuit(x) for x in x_train]\n",
        "x_test_circ = [convert_to_circuit(x) for x in x_test]"
      ],
      "execution_count": 1228,
      "outputs": []
    },
    {
      "cell_type": "code",
      "metadata": {
        "colab_type": "code",
        "id": "IZStEMk4ojhk",
        "colab": {}
      },
      "source": [
        "x_train_tfcirc = tfq.convert_to_tensor(x_train_circ)\n",
        "x_test_tfcirc = tfq.convert_to_tensor(x_test_circ)"
      ],
      "execution_count": 1229,
      "outputs": []
    },
    {
      "cell_type": "markdown",
      "metadata": {
        "id": "TyF9XRQN8vmt",
        "colab_type": "text"
      },
      "source": [
        "Let's build a **simple classifier** on the similar line of https://arxiv.org/abs/1802.06002\n",
        "\n",
        "*For Later: This can be furthur simplified to just 2 variables (aplha & beta), which are shared in code below*"
      ]
    },
    {
      "cell_type": "code",
      "metadata": {
        "colab_type": "code",
        "id": "2QZvVh7vojhx",
        "colab": {}
      },
      "source": [
        "input_qubits = cirq.GridQubit.rect(2, 1)  # 2x1 grid.\n",
        "readout = cirq.GridQubit(-1, -1)   # a qubit at [-1,-1]\n",
        "model_circuit = cirq.Circuit()\n",
        "\n",
        "model_circuit.append(cirq.X(readout))\n",
        "model_circuit.append(cirq.H(readout))\n",
        "\n",
        "alpha1 = sympy.Symbol('a1')\n",
        "model_circuit.append(cirq.XX(input_qubits[0], readout)**alpha1)\n",
        "\n",
        "alpha2 = sympy.Symbol('a2')\n",
        "model_circuit.append(cirq.XX(input_qubits[1], readout)**alpha2)\n",
        "\n",
        "beta1 = sympy.Symbol('b1')\n",
        "model_circuit.append(cirq.ZZ(input_qubits[0], readout)**beta1)\n",
        "\n",
        "beta2 = sympy.Symbol('b2')\n",
        "model_circuit.append(cirq.ZZ(input_qubits[1], readout)**beta2)\n",
        "\n",
        "model_circuit.append(cirq.H(readout))\n",
        "model_readout = cirq.Z(readout)"
      ],
      "execution_count": 1230,
      "outputs": []
    },
    {
      "cell_type": "markdown",
      "metadata": {
        "id": "Vnt6gcGv-DvD",
        "colab_type": "text"
      },
      "source": [
        "Let see what we just built"
      ]
    },
    {
      "cell_type": "code",
      "metadata": {
        "colab_type": "code",
        "id": "ALIbSUggXVnk",
        "colab": {
          "base_uri": "https://localhost:8080/",
          "height": 171
        },
        "outputId": "3129d925-ad14-45fb-99e7-b2e0e71bba63"
      },
      "source": [
        "SVGCircuit(model_circuit)"
      ],
      "execution_count": 1231,
      "outputs": [
        {
          "output_type": "execute_result",
          "data": {
            "text/plain": [
              "<cirq.contrib.svg.svg.SVGCircuit at 0x7fa475445fd0>"
            ],
            "image/svg+xml": "<svg xmlns=\"http://www.w3.org/2000/svg\" width=\"606.345703125\" height=\"150.0\"><line x1=\"39.810625\" x2=\"576.345703125\" y1=\"25.0\" y2=\"25.0\" stroke=\"#1967d2\" stroke-width=\"1\" /><line x1=\"39.810625\" x2=\"576.345703125\" y1=\"75.0\" y2=\"75.0\" stroke=\"#1967d2\" stroke-width=\"1\" /><line x1=\"39.810625\" x2=\"576.345703125\" y1=\"125.0\" y2=\"125.0\" stroke=\"#1967d2\" stroke-width=\"1\" /><line x1=\"237.96529296875002\" x2=\"237.96529296875002\" y1=\"25.0\" y2=\"75.0\" stroke=\"black\" stroke-width=\"3\" /><line x1=\"314.59869140625\" x2=\"314.59869140625\" y1=\"25.0\" y2=\"125.0\" stroke=\"black\" stroke-width=\"3\" /><line x1=\"391.2798046875\" x2=\"391.2798046875\" y1=\"25.0\" y2=\"75.0\" stroke=\"black\" stroke-width=\"3\" /><line x1=\"468.00863281249997\" x2=\"468.00863281249997\" y1=\"25.0\" y2=\"125.0\" stroke=\"black\" stroke-width=\"3\" /><rect x=\"10.0\" y=\"5.0\" width=\"59.62125\" height=\"40\" stroke=\"black\" fill=\"white\" stroke-width=\"0\" /><text x=\"39.810625\" y=\"25.0\" dominant-baseline=\"middle\" text-anchor=\"middle\" font-size=\"14px\">(-1, -1): </text><rect x=\"10.0\" y=\"55.0\" width=\"59.62125\" height=\"40\" stroke=\"black\" fill=\"white\" stroke-width=\"0\" /><text x=\"39.810625\" y=\"75.0\" dominant-baseline=\"middle\" text-anchor=\"middle\" font-size=\"14px\">(0, 0): </text><rect x=\"10.0\" y=\"105.0\" width=\"59.62125\" height=\"40\" stroke=\"black\" fill=\"white\" stroke-width=\"0\" /><text x=\"39.810625\" y=\"125.0\" dominant-baseline=\"middle\" text-anchor=\"middle\" font-size=\"14px\">(1, 0): </text><rect x=\"89.62125\" y=\"5.0\" width=\"40\" height=\"40\" stroke=\"black\" fill=\"white\" stroke-width=\"1\" /><text x=\"109.62125\" y=\"25.0\" dominant-baseline=\"middle\" text-anchor=\"middle\" font-size=\"18px\">X</text><rect x=\"149.62125\" y=\"5.0\" width=\"40\" height=\"40\" stroke=\"black\" fill=\"white\" stroke-width=\"1\" /><text x=\"169.62125\" y=\"25.0\" dominant-baseline=\"middle\" text-anchor=\"middle\" font-size=\"18px\">H</text><rect x=\"209.62125000000003\" y=\"55.0\" width=\"56.688085937500006\" height=\"40\" stroke=\"black\" fill=\"white\" stroke-width=\"1\" /><text x=\"237.96529296875002\" y=\"75.0\" dominant-baseline=\"middle\" text-anchor=\"middle\" font-size=\"14px\">XX^a1</text><rect x=\"209.62125000000003\" y=\"5.0\" width=\"56.688085937500006\" height=\"40\" stroke=\"black\" fill=\"white\" stroke-width=\"1\" /><text x=\"237.96529296875002\" y=\"25.0\" dominant-baseline=\"middle\" text-anchor=\"middle\" font-size=\"14px\">XX</text><rect x=\"286.3093359375\" y=\"105.0\" width=\"56.578710937500006\" height=\"40\" stroke=\"black\" fill=\"white\" stroke-width=\"1\" /><text x=\"314.59869140625\" y=\"125.0\" dominant-baseline=\"middle\" text-anchor=\"middle\" font-size=\"14px\">XX^a2</text><rect x=\"286.3093359375\" y=\"5.0\" width=\"56.578710937500006\" height=\"40\" stroke=\"black\" fill=\"white\" stroke-width=\"1\" /><text x=\"314.59869140625\" y=\"25.0\" dominant-baseline=\"middle\" text-anchor=\"middle\" font-size=\"14px\">XX</text><rect x=\"362.888046875\" y=\"55.0\" width=\"56.78351562500001\" height=\"40\" stroke=\"black\" fill=\"white\" stroke-width=\"1\" /><text x=\"391.2798046875\" y=\"75.0\" dominant-baseline=\"middle\" text-anchor=\"middle\" font-size=\"14px\">ZZ^b1</text><rect x=\"362.888046875\" y=\"5.0\" width=\"56.78351562500001\" height=\"40\" stroke=\"black\" fill=\"white\" stroke-width=\"1\" /><text x=\"391.2798046875\" y=\"25.0\" dominant-baseline=\"middle\" text-anchor=\"middle\" font-size=\"14px\">ZZ</text><rect x=\"439.67156249999994\" y=\"105.0\" width=\"56.67414062500001\" height=\"40\" stroke=\"black\" fill=\"white\" stroke-width=\"1\" /><text x=\"468.00863281249997\" y=\"125.0\" dominant-baseline=\"middle\" text-anchor=\"middle\" font-size=\"14px\">ZZ^b2</text><rect x=\"439.67156249999994\" y=\"5.0\" width=\"56.67414062500001\" height=\"40\" stroke=\"black\" fill=\"white\" stroke-width=\"1\" /><text x=\"468.00863281249997\" y=\"25.0\" dominant-baseline=\"middle\" text-anchor=\"middle\" font-size=\"14px\">ZZ</text><rect x=\"516.345703125\" y=\"5.0\" width=\"40\" height=\"40\" stroke=\"black\" fill=\"white\" stroke-width=\"1\" /><text x=\"536.345703125\" y=\"25.0\" dominant-baseline=\"middle\" text-anchor=\"middle\" font-size=\"18px\">H</text></svg>"
          },
          "metadata": {
            "tags": []
          },
          "execution_count": 1231
        }
      ]
    },
    {
      "cell_type": "markdown",
      "metadata": {
        "id": "sR9LteGY-W-H",
        "colab_type": "text"
      },
      "source": [
        "Let's build the **Qauntum-NN**\n",
        "\n",
        "Read about Quantum Layers:\n",
        "*   [Parametrized Quantum Circuit (PQC) Layer](https://www.tensorflow.org/quantum/api_docs/python/tfq/layers/PQC) Layer.\n",
        "\n",
        "*   [Controlled Parametrized Quantum Circuit (PQC)](https://www.tensorflow.org/quantum/api_docs/python/tfq/layers/ControlledPQC) Layer."
      ]
    },
    {
      "cell_type": "code",
      "metadata": {
        "colab_type": "code",
        "id": "ZYdf_KOxojh0",
        "colab": {}
      },
      "source": [
        "# Build the model.\n",
        "model = tf.keras.Sequential([\n",
        "    # The input is the data-circuit, encoded as a tf.string\n",
        "    tf.keras.layers.Input(shape=(), dtype=tf.string),\n",
        "    # The PQC layer returns the expected value of the readout gate @ [-1,1].\n",
        "    tfq.layers.PQC(model_circuit, model_readout),\n",
        "])"
      ],
      "execution_count": 1232,
      "outputs": []
    },
    {
      "cell_type": "code",
      "metadata": {
        "colab_type": "code",
        "id": "3XKtZ_TEojh8",
        "colab": {}
      },
      "source": [
        "def accuracy(y_true, y_pred):\n",
        "    y_true = tf.squeeze(y_true) > 0.0\n",
        "    y_pred = tf.squeeze(y_pred) > 0.0\n",
        "    result = tf.cast(y_true == y_pred, tf.float32)\n",
        "    return tf.reduce_mean(result)"
      ],
      "execution_count": 1233,
      "outputs": []
    },
    {
      "cell_type": "code",
      "metadata": {
        "colab_type": "code",
        "id": "FlpETlLRojiA",
        "colab": {}
      },
      "source": [
        "model.compile(\n",
        "    loss=tf.keras.losses.MeanSquaredError(),\n",
        "    optimizer=tf.keras.optimizers.Adam(),\n",
        "    metrics=[accuracy])"
      ],
      "execution_count": 1234,
      "outputs": []
    },
    {
      "cell_type": "code",
      "metadata": {
        "colab_type": "code",
        "id": "jkHq2RstojiC",
        "colab": {
          "base_uri": "https://localhost:8080/",
          "height": 219
        },
        "outputId": "95ba2526-bc9c-48a1-b20a-f9c74e2cbb4d"
      },
      "source": [
        "print(model.summary())"
      ],
      "execution_count": 1235,
      "outputs": [
        {
          "output_type": "stream",
          "text": [
            "Model: \"sequential_44\"\n",
            "_________________________________________________________________\n",
            "Layer (type)                 Output Shape              Param #   \n",
            "=================================================================\n",
            "pqc_44 (PQC)                 (None, 1)                 4         \n",
            "=================================================================\n",
            "Total params: 4\n",
            "Trainable params: 4\n",
            "Non-trainable params: 0\n",
            "_________________________________________________________________\n",
            "None\n"
          ],
          "name": "stdout"
        }
      ]
    },
    {
      "cell_type": "code",
      "metadata": {
        "colab_type": "code",
        "id": "Ya9qP3KkojiM",
        "colab": {
          "base_uri": "https://localhost:8080/",
          "height": 237
        },
        "outputId": "8d26caf8-3ad7-475d-b42b-19a0ea136d1e"
      },
      "source": [
        "model_history = model.fit(\n",
        "      x_train_tfcirc, y_train,\n",
        "      batch_size=200,\n",
        "      epochs=5,\n",
        "      verbose=1,\n",
        "      validation_data=(x_test_tfcirc, y_test))\n",
        "\n",
        "results = model.evaluate(x_test_tfcirc, y_test)"
      ],
      "execution_count": 1236,
      "outputs": [
        {
          "output_type": "stream",
          "text": [
            "Train on 5000 samples, validate on 200 samples\n",
            "Epoch 1/5\n",
            "5000/5000 [==============================] - 4s 886us/sample - loss: 0.2459 - accuracy: 1.0000 - val_loss: 0.2036 - val_accuracy: 1.0000\n",
            "Epoch 2/5\n",
            "5000/5000 [==============================] - 4s 735us/sample - loss: 0.1728 - accuracy: 1.0000 - val_loss: 0.1432 - val_accuracy: 1.0000\n",
            "Epoch 3/5\n",
            "5000/5000 [==============================] - 4s 716us/sample - loss: 0.1213 - accuracy: 1.0000 - val_loss: 0.1003 - val_accuracy: 1.0000\n",
            "Epoch 4/5\n",
            "5000/5000 [==============================] - 4s 718us/sample - loss: 0.0851 - accuracy: 1.0000 - val_loss: 0.0705 - val_accuracy: 1.0000\n",
            "Epoch 5/5\n",
            "5000/5000 [==============================] - 3s 578us/sample - loss: 0.0600 - accuracy: 1.0000 - val_loss: 0.0500 - val_accuracy: 1.0000\n",
            "200/200 [==============================] - 0s 684us/sample - loss: 0.0500 - accuracy: 1.0000\n"
          ],
          "name": "stdout"
        }
      ]
    },
    {
      "cell_type": "markdown",
      "metadata": {
        "id": "xwzxbyG9eWxu",
        "colab_type": "text"
      },
      "source": [
        "Sample predictions for the test data"
      ]
    },
    {
      "cell_type": "code",
      "metadata": {
        "colab_type": "code",
        "id": "NDxz-2Phe6gh",
        "colab": {
          "base_uri": "https://localhost:8080/",
          "height": 55
        },
        "outputId": "0eadcefc-ed2c-4551-ee12-ea042300f1e8"
      },
      "source": [
        "print(list(zip(model.predict(x_test_tfcirc).ravel()[:10], y_test[:10])))"
      ],
      "execution_count": 1237,
      "outputs": [
        {
          "output_type": "stream",
          "text": [
            "[(-0.7765335, -1.0), (0.77620333, 1.0), (0.77620333, 1.0), (0.77620333, 1.0), (-0.7765335, -1.0), (0.77620333, 1.0), (-0.7765335, -1.0), (0.77620333, 1.0), (0.77620333, 1.0), (0.77620333, 1.0)]\n"
          ],
          "name": "stdout"
        }
      ]
    },
    {
      "cell_type": "markdown",
      "metadata": {
        "id": "EnC4v_aUedM5",
        "colab_type": "text"
      },
      "source": [
        "Training & validation Plots"
      ]
    },
    {
      "cell_type": "code",
      "metadata": {
        "id": "0L3eRmdNQQoO",
        "colab_type": "code",
        "colab": {
          "base_uri": "https://localhost:8080/",
          "height": 354
        },
        "outputId": "26f449a1-ffda-4247-a82f-29b37ad20d56"
      },
      "source": [
        "print(\"RMSE : % 5.2f, Acc % 5.2f\" %(results[0], results[1]))\n",
        "\n",
        "fig, axs = plt.subplots(2, 2)\n",
        "\n",
        "axs[0, 0].plot(model_history.history['loss'])\n",
        "axs[0, 0].set_title('training')\n",
        "axs[0, 0].set(xlabel='iterations', ylabel='loss')\n",
        "\n",
        "axs[0, 1].plot(model_history.history['accuracy'])\n",
        "axs[0, 1].set_title('training')\n",
        "axs[0, 1].set(xlabel='iterations', ylabel='accuracy')\n",
        "\n",
        "axs[1, 0].plot(model_history.history['val_loss'])\n",
        "axs[1, 0].set_title('validation')\n",
        "axs[1, 0].set(xlabel='iterations', ylabel='loss')\n",
        "\n",
        "axs[1, 1].plot(model_history.history['val_accuracy'])\n",
        "axs[1, 1].set_title('validation')\n",
        "axs[1, 1].set(xlabel='iterations', ylabel='accuracy')\n",
        "\n",
        "plt.tight_layout()\n",
        "plt.show()\n",
        "print(model_history.history)"
      ],
      "execution_count": 1238,
      "outputs": [
        {
          "output_type": "stream",
          "text": [
            "RMSE :  0.05, Acc  1.00\n"
          ],
          "name": "stdout"
        },
        {
          "output_type": "display_data",
          "data": {
            "image/png": "[encoded data removed]",
            "text/plain": [
              "<Figure size 432x288 with 4 Axes>"
            ]
          },
          "metadata": {
            "tags": [],
            "needs_background": "light"
          }
        },
        {
          "output_type": "stream",
          "text": [
            "{'loss': [0.24593304753303527, 0.1727535021305084, 0.12134397745132447, 0.08505846738815308, 0.05999375268816948], 'accuracy': [1.0, 1.0, 1.0, 1.0, 1.0], 'val_loss': [0.20355671644210815, 0.14317776262760162, 0.10030648112297058, 0.07045672088861465, 0.05001112073659897], 'val_accuracy': [1.0, 1.0, 1.0, 1.0, 1.0]}\n"
          ],
          "name": "stdout"
        }
      ]
    },
    {
      "cell_type": "markdown",
      "metadata": {
        "id": "7MdpWbYzfPDh",
        "colab_type": "text"
      },
      "source": [
        "---\n",
        "\n",
        "For building a better classifer, check various [loss functions](https://keras.io/api/losses/)\n",
        "\n",
        "More a maximum Margin classifier, check [hinge loss](https://keras.io/api/losses/hinge_losses/)\n",
        "\n",
        "For an imporved version of above, check  [tfq_classifier_101.ipynb](https://github.com/AbhishekAshokDubey/quantum-computing-101/blob/master/qml-101/tfq_classifier_101.ipynb)"
      ]
    }
  ]
}